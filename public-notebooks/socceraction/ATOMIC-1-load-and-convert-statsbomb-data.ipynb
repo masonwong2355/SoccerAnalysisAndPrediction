{
 "cells": [
  {
   "cell_type": "markdown",
   "metadata": {},
   "source": [
    "**Disclaimer**: this notebook's compatibility with StatsBomb event data 4.0.0 was last checked on January 3rd, 2021"
   ]
  },
  {
   "cell_type": "code",
   "execution_count": 1,
   "metadata": {
    "execution": {
     "iopub.execute_input": "2021-01-16T14:00:29.681278Z",
     "iopub.status.busy": "2021-01-16T14:00:29.671155Z",
     "iopub.status.idle": "2021-01-16T14:00:30.376347Z",
     "shell.execute_reply": "2021-01-16T14:00:30.374839Z"
    }
   },
   "outputs": [],
   "source": [
    "%load_ext autoreload\n",
    "%autoreload 2\n",
    "import os\n",
    "import warnings\n",
    "import pandas as pd\n",
    "warnings.simplefilter(action='ignore', category=pd.errors.PerformanceWarning)\n",
    "import tqdm\n"
   ]
  },
  {
   "cell_type": "code",
   "execution_count": 2,
   "metadata": {
    "execution": {
     "iopub.execute_input": "2021-01-16T14:00:30.380994Z",
     "iopub.status.busy": "2021-01-16T14:00:30.380380Z",
     "iopub.status.idle": "2021-01-16T14:00:31.069958Z",
     "shell.execute_reply": "2021-01-16T14:00:31.068550Z"
    }
   },
   "outputs": [],
   "source": [
    "import socceraction.spadl as spadl\n",
    "import socceraction.spadl.statsbomb as statsbomb\n",
    "# import .statsbomb as statsbomb\n",
    "# from .statsbomb import statsbomb as statsbomb\n",
    "\n",
    "import socceraction.atomic.spadl as atomicspadl"
   ]
  },
  {
   "cell_type": "markdown",
   "metadata": {},
   "source": [
    "## Set up the statsbombloader"
   ]
  },
  {
   "cell_type": "code",
   "execution_count": 3,
   "metadata": {
    "execution": {
     "iopub.execute_input": "2021-01-16T14:00:31.074922Z",
     "iopub.status.busy": "2021-01-16T14:00:31.074324Z",
     "iopub.status.idle": "2021-01-16T14:00:31.100839Z",
     "shell.execute_reply": "2021-01-16T14:00:31.100215Z"
    }
   },
   "outputs": [
    {
     "data": {
      "text/plain": [
       "<socceraction.spadl.statsbomb.StatsBombLoader at 0x236fef8f7c0>"
      ]
     },
     "execution_count": 3,
     "metadata": {},
     "output_type": "execute_result"
    }
   ],
   "source": [
    "# Use this if you only want to use the free public statsbomb data\n",
    "free_open_data_remote = \"https://raw.githubusercontent.com/statsbomb/open-data/master/data/\"\n",
    "SBL = statsbomb.StatsBombLoader(root=free_open_data_remote, getter=\"remote\")\n",
    "\n",
    "# # Uncomment the code below if you have a local folder on your computer with statsbomb data\n",
    "#datafolder = \"../data-epl\" # Example of local folder with statsbomb data\n",
    "#SBL = statsbomb.StatsBombLoader(root=datafolder,getter=\"local\")\n",
    "SBL"
   ]
  },
  {
   "cell_type": "markdown",
   "metadata": {},
   "source": [
    "## Select competitions to load and convert"
   ]
  },
  {
   "cell_type": "code",
   "execution_count": 4,
   "metadata": {
    "execution": {
     "iopub.execute_input": "2021-01-16T14:00:31.104407Z",
     "iopub.status.busy": "2021-01-16T14:00:31.103765Z",
     "iopub.status.idle": "2021-01-16T14:00:31.214396Z",
     "shell.execute_reply": "2021-01-16T14:00:31.214930Z"
    }
   },
   "outputs": [
    {
     "data": {
      "text/plain": [
       "{'Champions League',\n",
       " \"FA Women's Super League\",\n",
       " 'FIFA World Cup',\n",
       " 'La Liga',\n",
       " 'NWSL',\n",
       " 'Premier League',\n",
       " \"Women's World Cup\"}"
      ]
     },
     "execution_count": 4,
     "metadata": {},
     "output_type": "execute_result"
    }
   ],
   "source": [
    "# View all available competitions\n",
    "competitions = SBL.competitions()\n",
    "set(competitions.competition_name)"
   ]
  },
  {
   "cell_type": "code",
   "execution_count": 5,
   "metadata": {
    "execution": {
     "iopub.execute_input": "2021-01-16T14:00:31.219798Z",
     "iopub.status.busy": "2021-01-16T14:00:31.219204Z",
     "iopub.status.idle": "2021-01-16T14:00:31.258563Z",
     "shell.execute_reply": "2021-01-16T14:00:31.258024Z"
    }
   },
   "outputs": [
    {
     "data": {
      "text/html": [
       "<div>\n",
       "<style scoped>\n",
       "    .dataframe tbody tr th:only-of-type {\n",
       "        vertical-align: middle;\n",
       "    }\n",
       "\n",
       "    .dataframe tbody tr th {\n",
       "        vertical-align: top;\n",
       "    }\n",
       "\n",
       "    .dataframe thead th {\n",
       "        text-align: right;\n",
       "    }\n",
       "</style>\n",
       "<table border=\"1\" class=\"dataframe\">\n",
       "  <thead>\n",
       "    <tr style=\"text-align: right;\">\n",
       "      <th></th>\n",
       "      <th>season_id</th>\n",
       "      <th>competition_id</th>\n",
       "      <th>competition_name</th>\n",
       "      <th>country_name</th>\n",
       "      <th>competition_gender</th>\n",
       "      <th>season_name</th>\n",
       "    </tr>\n",
       "  </thead>\n",
       "  <tbody>\n",
       "    <tr>\n",
       "      <th>0</th>\n",
       "      <td>4</td>\n",
       "      <td>16</td>\n",
       "      <td>Champions League</td>\n",
       "      <td>Europe</td>\n",
       "      <td>male</td>\n",
       "      <td>2018/2019</td>\n",
       "    </tr>\n",
       "    <tr>\n",
       "      <th>1</th>\n",
       "      <td>1</td>\n",
       "      <td>16</td>\n",
       "      <td>Champions League</td>\n",
       "      <td>Europe</td>\n",
       "      <td>male</td>\n",
       "      <td>2017/2018</td>\n",
       "    </tr>\n",
       "    <tr>\n",
       "      <th>2</th>\n",
       "      <td>2</td>\n",
       "      <td>16</td>\n",
       "      <td>Champions League</td>\n",
       "      <td>Europe</td>\n",
       "      <td>male</td>\n",
       "      <td>2016/2017</td>\n",
       "    </tr>\n",
       "    <tr>\n",
       "      <th>3</th>\n",
       "      <td>27</td>\n",
       "      <td>16</td>\n",
       "      <td>Champions League</td>\n",
       "      <td>Europe</td>\n",
       "      <td>male</td>\n",
       "      <td>2015/2016</td>\n",
       "    </tr>\n",
       "    <tr>\n",
       "      <th>4</th>\n",
       "      <td>26</td>\n",
       "      <td>16</td>\n",
       "      <td>Champions League</td>\n",
       "      <td>Europe</td>\n",
       "      <td>male</td>\n",
       "      <td>2014/2015</td>\n",
       "    </tr>\n",
       "    <tr>\n",
       "      <th>5</th>\n",
       "      <td>25</td>\n",
       "      <td>16</td>\n",
       "      <td>Champions League</td>\n",
       "      <td>Europe</td>\n",
       "      <td>male</td>\n",
       "      <td>2013/2014</td>\n",
       "    </tr>\n",
       "    <tr>\n",
       "      <th>6</th>\n",
       "      <td>24</td>\n",
       "      <td>16</td>\n",
       "      <td>Champions League</td>\n",
       "      <td>Europe</td>\n",
       "      <td>male</td>\n",
       "      <td>2012/2013</td>\n",
       "    </tr>\n",
       "    <tr>\n",
       "      <th>7</th>\n",
       "      <td>23</td>\n",
       "      <td>16</td>\n",
       "      <td>Champions League</td>\n",
       "      <td>Europe</td>\n",
       "      <td>male</td>\n",
       "      <td>2011/2012</td>\n",
       "    </tr>\n",
       "    <tr>\n",
       "      <th>8</th>\n",
       "      <td>22</td>\n",
       "      <td>16</td>\n",
       "      <td>Champions League</td>\n",
       "      <td>Europe</td>\n",
       "      <td>male</td>\n",
       "      <td>2010/2011</td>\n",
       "    </tr>\n",
       "    <tr>\n",
       "      <th>9</th>\n",
       "      <td>21</td>\n",
       "      <td>16</td>\n",
       "      <td>Champions League</td>\n",
       "      <td>Europe</td>\n",
       "      <td>male</td>\n",
       "      <td>2009/2010</td>\n",
       "    </tr>\n",
       "    <tr>\n",
       "      <th>10</th>\n",
       "      <td>41</td>\n",
       "      <td>16</td>\n",
       "      <td>Champions League</td>\n",
       "      <td>Europe</td>\n",
       "      <td>male</td>\n",
       "      <td>2008/2009</td>\n",
       "    </tr>\n",
       "    <tr>\n",
       "      <th>11</th>\n",
       "      <td>39</td>\n",
       "      <td>16</td>\n",
       "      <td>Champions League</td>\n",
       "      <td>Europe</td>\n",
       "      <td>male</td>\n",
       "      <td>2006/2007</td>\n",
       "    </tr>\n",
       "    <tr>\n",
       "      <th>12</th>\n",
       "      <td>37</td>\n",
       "      <td>16</td>\n",
       "      <td>Champions League</td>\n",
       "      <td>Europe</td>\n",
       "      <td>male</td>\n",
       "      <td>2004/2005</td>\n",
       "    </tr>\n",
       "    <tr>\n",
       "      <th>13</th>\n",
       "      <td>44</td>\n",
       "      <td>16</td>\n",
       "      <td>Champions League</td>\n",
       "      <td>Europe</td>\n",
       "      <td>male</td>\n",
       "      <td>2003/2004</td>\n",
       "    </tr>\n",
       "    <tr>\n",
       "      <th>14</th>\n",
       "      <td>76</td>\n",
       "      <td>16</td>\n",
       "      <td>Champions League</td>\n",
       "      <td>Europe</td>\n",
       "      <td>male</td>\n",
       "      <td>1999/2000</td>\n",
       "    </tr>\n",
       "  </tbody>\n",
       "</table>\n",
       "</div>"
      ],
      "text/plain": [
       "    season_id  competition_id  competition_name country_name  \\\n",
       "0           4              16  Champions League       Europe   \n",
       "1           1              16  Champions League       Europe   \n",
       "2           2              16  Champions League       Europe   \n",
       "3          27              16  Champions League       Europe   \n",
       "4          26              16  Champions League       Europe   \n",
       "5          25              16  Champions League       Europe   \n",
       "6          24              16  Champions League       Europe   \n",
       "7          23              16  Champions League       Europe   \n",
       "8          22              16  Champions League       Europe   \n",
       "9          21              16  Champions League       Europe   \n",
       "10         41              16  Champions League       Europe   \n",
       "11         39              16  Champions League       Europe   \n",
       "12         37              16  Champions League       Europe   \n",
       "13         44              16  Champions League       Europe   \n",
       "14         76              16  Champions League       Europe   \n",
       "\n",
       "   competition_gender season_name  \n",
       "0                male   2018/2019  \n",
       "1                male   2017/2018  \n",
       "2                male   2016/2017  \n",
       "3                male   2015/2016  \n",
       "4                male   2014/2015  \n",
       "5                male   2013/2014  \n",
       "6                male   2012/2013  \n",
       "7                male   2011/2012  \n",
       "8                male   2010/2011  \n",
       "9                male   2009/2010  \n",
       "10               male   2008/2009  \n",
       "11               male   2006/2007  \n",
       "12               male   2004/2005  \n",
       "13               male   2003/2004  \n",
       "14               male   1999/2000  "
      ]
     },
     "execution_count": 5,
     "metadata": {},
     "output_type": "execute_result"
    }
   ],
   "source": [
    "# Fifa world cup\n",
    "# selected_competitions = competitions[competitions.competition_name == \"FIFA World Cup\"]\n",
    "# selected_competitions = competitions[competitions.competition_name == \"FIFA World Cup\"]\n",
    "selected_competitions = competitions[competitions.competition_name == \"Champions League\"]\n",
    "# selected_competitions = competitions[competitions.competition_name == \"NWSL\"]\n",
    "# selected_competitions = competitions[competitions.competition_name == \"Premier League\"]\n",
    "# selected_competitions = competitions[competitions.competition_name == \"Women's World Cup\"]\n",
    "\n",
    "# selected_competitions = competitions\n",
    "\n",
    "# # Messi data\n",
    "# selected_competitions = competitions[competitions.competition_name == \"La Liga\"]\n",
    "\n",
    "# FA Women's Super League\n",
    "# selected_competitions = competitions[competitions.competition_name == \"FA Women's Super League\"]\n",
    "selected_competitions"
   ]
  },
  {
   "cell_type": "code",
   "execution_count": 6,
   "metadata": {
    "execution": {
     "iopub.execute_input": "2021-01-16T14:00:31.263724Z",
     "iopub.status.busy": "2021-01-16T14:00:31.263028Z",
     "iopub.status.idle": "2021-01-16T14:00:31.374703Z",
     "shell.execute_reply": "2021-01-16T14:00:31.375223Z"
    },
    "scrolled": true
   },
   "outputs": [
    {
     "ename": "KeyError",
     "evalue": "\"['venue', 'referee_id'] not in index\"",
     "output_type": "error",
     "traceback": [
      "\u001b[1;31m---------------------------------------------------------------------------\u001b[0m",
      "\u001b[1;31mKeyError\u001b[0m                                  Traceback (most recent call last)",
      "\u001b[1;32m<ipython-input-6-3ca5d05a9ebe>\u001b[0m in \u001b[0;36m<module>\u001b[1;34m\u001b[0m\n\u001b[0;32m      1\u001b[0m \u001b[1;31m# Get matches from all selected competitions\u001b[0m\u001b[1;33m\u001b[0m\u001b[1;33m\u001b[0m\u001b[1;33m\u001b[0m\u001b[0m\n\u001b[1;32m----> 2\u001b[1;33m games = list(\n\u001b[0m\u001b[0;32m      3\u001b[0m     \u001b[0mSBL\u001b[0m\u001b[1;33m.\u001b[0m\u001b[0mgames\u001b[0m\u001b[1;33m(\u001b[0m\u001b[0mrow\u001b[0m\u001b[1;33m.\u001b[0m\u001b[0mcompetition_id\u001b[0m\u001b[1;33m,\u001b[0m \u001b[0mrow\u001b[0m\u001b[1;33m.\u001b[0m\u001b[0mseason_id\u001b[0m\u001b[1;33m)\u001b[0m\u001b[1;33m\u001b[0m\u001b[1;33m\u001b[0m\u001b[0m\n\u001b[0;32m      4\u001b[0m     \u001b[1;32mfor\u001b[0m \u001b[0mrow\u001b[0m \u001b[1;32min\u001b[0m \u001b[0mselected_competitions\u001b[0m\u001b[1;33m.\u001b[0m\u001b[0mitertuples\u001b[0m\u001b[1;33m(\u001b[0m\u001b[1;33m)\u001b[0m\u001b[1;33m\u001b[0m\u001b[1;33m\u001b[0m\u001b[0m\n\u001b[0;32m      5\u001b[0m )\n",
      "\u001b[1;32m<ipython-input-6-3ca5d05a9ebe>\u001b[0m in \u001b[0;36m<genexpr>\u001b[1;34m(.0)\u001b[0m\n\u001b[0;32m      1\u001b[0m \u001b[1;31m# Get matches from all selected competitions\u001b[0m\u001b[1;33m\u001b[0m\u001b[1;33m\u001b[0m\u001b[1;33m\u001b[0m\u001b[0m\n\u001b[0;32m      2\u001b[0m games = list(\n\u001b[1;32m----> 3\u001b[1;33m     \u001b[0mSBL\u001b[0m\u001b[1;33m.\u001b[0m\u001b[0mgames\u001b[0m\u001b[1;33m(\u001b[0m\u001b[0mrow\u001b[0m\u001b[1;33m.\u001b[0m\u001b[0mcompetition_id\u001b[0m\u001b[1;33m,\u001b[0m \u001b[0mrow\u001b[0m\u001b[1;33m.\u001b[0m\u001b[0mseason_id\u001b[0m\u001b[1;33m)\u001b[0m\u001b[1;33m\u001b[0m\u001b[1;33m\u001b[0m\u001b[0m\n\u001b[0m\u001b[0;32m      4\u001b[0m     \u001b[1;32mfor\u001b[0m \u001b[0mrow\u001b[0m \u001b[1;32min\u001b[0m \u001b[0mselected_competitions\u001b[0m\u001b[1;33m.\u001b[0m\u001b[0mitertuples\u001b[0m\u001b[1;33m(\u001b[0m\u001b[1;33m)\u001b[0m\u001b[1;33m\u001b[0m\u001b[1;33m\u001b[0m\u001b[0m\n\u001b[0;32m      5\u001b[0m )\n",
      "\u001b[1;32m~\\anaconda3\\lib\\site-packages\\socceraction\\spadl\\statsbomb.py\u001b[0m in \u001b[0;36mgames\u001b[1;34m(self, competition_id, season_id)\u001b[0m\n\u001b[0;32m    166\u001b[0m             \u001b[0minplace\u001b[0m\u001b[1;33m=\u001b[0m\u001b[1;32mTrue\u001b[0m\u001b[1;33m,\u001b[0m\u001b[1;33m\u001b[0m\u001b[1;33m\u001b[0m\u001b[0m\n\u001b[0;32m    167\u001b[0m         )\n\u001b[1;32m--> 168\u001b[1;33m         return gamesdf[\n\u001b[0m\u001b[0;32m    169\u001b[0m             [\n\u001b[0;32m    170\u001b[0m                 \u001b[1;34m'game_id'\u001b[0m\u001b[1;33m,\u001b[0m\u001b[1;33m\u001b[0m\u001b[1;33m\u001b[0m\u001b[0m\n",
      "\u001b[1;32m~\\anaconda3\\lib\\site-packages\\pandas\\core\\frame.py\u001b[0m in \u001b[0;36m__getitem__\u001b[1;34m(self, key)\u001b[0m\n\u001b[0;32m   3028\u001b[0m             \u001b[1;32mif\u001b[0m \u001b[0mis_iterator\u001b[0m\u001b[1;33m(\u001b[0m\u001b[0mkey\u001b[0m\u001b[1;33m)\u001b[0m\u001b[1;33m:\u001b[0m\u001b[1;33m\u001b[0m\u001b[1;33m\u001b[0m\u001b[0m\n\u001b[0;32m   3029\u001b[0m                 \u001b[0mkey\u001b[0m \u001b[1;33m=\u001b[0m \u001b[0mlist\u001b[0m\u001b[1;33m(\u001b[0m\u001b[0mkey\u001b[0m\u001b[1;33m)\u001b[0m\u001b[1;33m\u001b[0m\u001b[1;33m\u001b[0m\u001b[0m\n\u001b[1;32m-> 3030\u001b[1;33m             \u001b[0mindexer\u001b[0m \u001b[1;33m=\u001b[0m \u001b[0mself\u001b[0m\u001b[1;33m.\u001b[0m\u001b[0mloc\u001b[0m\u001b[1;33m.\u001b[0m\u001b[0m_get_listlike_indexer\u001b[0m\u001b[1;33m(\u001b[0m\u001b[0mkey\u001b[0m\u001b[1;33m,\u001b[0m \u001b[0maxis\u001b[0m\u001b[1;33m=\u001b[0m\u001b[1;36m1\u001b[0m\u001b[1;33m,\u001b[0m \u001b[0mraise_missing\u001b[0m\u001b[1;33m=\u001b[0m\u001b[1;32mTrue\u001b[0m\u001b[1;33m)\u001b[0m\u001b[1;33m[\u001b[0m\u001b[1;36m1\u001b[0m\u001b[1;33m]\u001b[0m\u001b[1;33m\u001b[0m\u001b[1;33m\u001b[0m\u001b[0m\n\u001b[0m\u001b[0;32m   3031\u001b[0m \u001b[1;33m\u001b[0m\u001b[0m\n\u001b[0;32m   3032\u001b[0m         \u001b[1;31m# take() does not accept boolean indexers\u001b[0m\u001b[1;33m\u001b[0m\u001b[1;33m\u001b[0m\u001b[1;33m\u001b[0m\u001b[0m\n",
      "\u001b[1;32m~\\anaconda3\\lib\\site-packages\\pandas\\core\\indexing.py\u001b[0m in \u001b[0;36m_get_listlike_indexer\u001b[1;34m(self, key, axis, raise_missing)\u001b[0m\n\u001b[0;32m   1264\u001b[0m             \u001b[0mkeyarr\u001b[0m\u001b[1;33m,\u001b[0m \u001b[0mindexer\u001b[0m\u001b[1;33m,\u001b[0m \u001b[0mnew_indexer\u001b[0m \u001b[1;33m=\u001b[0m \u001b[0max\u001b[0m\u001b[1;33m.\u001b[0m\u001b[0m_reindex_non_unique\u001b[0m\u001b[1;33m(\u001b[0m\u001b[0mkeyarr\u001b[0m\u001b[1;33m)\u001b[0m\u001b[1;33m\u001b[0m\u001b[1;33m\u001b[0m\u001b[0m\n\u001b[0;32m   1265\u001b[0m \u001b[1;33m\u001b[0m\u001b[0m\n\u001b[1;32m-> 1266\u001b[1;33m         \u001b[0mself\u001b[0m\u001b[1;33m.\u001b[0m\u001b[0m_validate_read_indexer\u001b[0m\u001b[1;33m(\u001b[0m\u001b[0mkeyarr\u001b[0m\u001b[1;33m,\u001b[0m \u001b[0mindexer\u001b[0m\u001b[1;33m,\u001b[0m \u001b[0maxis\u001b[0m\u001b[1;33m,\u001b[0m \u001b[0mraise_missing\u001b[0m\u001b[1;33m=\u001b[0m\u001b[0mraise_missing\u001b[0m\u001b[1;33m)\u001b[0m\u001b[1;33m\u001b[0m\u001b[1;33m\u001b[0m\u001b[0m\n\u001b[0m\u001b[0;32m   1267\u001b[0m         \u001b[1;32mreturn\u001b[0m \u001b[0mkeyarr\u001b[0m\u001b[1;33m,\u001b[0m \u001b[0mindexer\u001b[0m\u001b[1;33m\u001b[0m\u001b[1;33m\u001b[0m\u001b[0m\n\u001b[0;32m   1268\u001b[0m \u001b[1;33m\u001b[0m\u001b[0m\n",
      "\u001b[1;32m~\\anaconda3\\lib\\site-packages\\pandas\\core\\indexing.py\u001b[0m in \u001b[0;36m_validate_read_indexer\u001b[1;34m(self, key, indexer, axis, raise_missing)\u001b[0m\n\u001b[0;32m   1314\u001b[0m             \u001b[1;32mif\u001b[0m \u001b[0mraise_missing\u001b[0m\u001b[1;33m:\u001b[0m\u001b[1;33m\u001b[0m\u001b[1;33m\u001b[0m\u001b[0m\n\u001b[0;32m   1315\u001b[0m                 \u001b[0mnot_found\u001b[0m \u001b[1;33m=\u001b[0m \u001b[0mlist\u001b[0m\u001b[1;33m(\u001b[0m\u001b[0mset\u001b[0m\u001b[1;33m(\u001b[0m\u001b[0mkey\u001b[0m\u001b[1;33m)\u001b[0m \u001b[1;33m-\u001b[0m \u001b[0mset\u001b[0m\u001b[1;33m(\u001b[0m\u001b[0max\u001b[0m\u001b[1;33m)\u001b[0m\u001b[1;33m)\u001b[0m\u001b[1;33m\u001b[0m\u001b[1;33m\u001b[0m\u001b[0m\n\u001b[1;32m-> 1316\u001b[1;33m                 \u001b[1;32mraise\u001b[0m \u001b[0mKeyError\u001b[0m\u001b[1;33m(\u001b[0m\u001b[1;34mf\"{not_found} not in index\"\u001b[0m\u001b[1;33m)\u001b[0m\u001b[1;33m\u001b[0m\u001b[1;33m\u001b[0m\u001b[0m\n\u001b[0m\u001b[0;32m   1317\u001b[0m \u001b[1;33m\u001b[0m\u001b[0m\n\u001b[0;32m   1318\u001b[0m             \u001b[0mnot_found\u001b[0m \u001b[1;33m=\u001b[0m \u001b[0mkey\u001b[0m\u001b[1;33m[\u001b[0m\u001b[0mmissing_mask\u001b[0m\u001b[1;33m]\u001b[0m\u001b[1;33m\u001b[0m\u001b[1;33m\u001b[0m\u001b[0m\n",
      "\u001b[1;31mKeyError\u001b[0m: \"['venue', 'referee_id'] not in index\""
     ]
    }
   ],
   "source": [
    "# Get matches from all selected competitions\n",
    "games = list(\n",
    "    SBL.games(row.competition_id, row.season_id)\n",
    "    for row in selected_competitions.itertuples()\n",
    ")\n",
    "games = pd.concat(games, sort=True).reset_index(drop=True)\n",
    "games[[\"home_team_id\", \"away_team_id\", \"game_date\", \"home_score\", \"away_score\"]]\n",
    "# list(games.itertuples())"
   ]
  },
  {
   "cell_type": "markdown",
   "metadata": {},
   "source": [
    "## Load and convert match data"
   ]
  },
  {
   "cell_type": "code",
   "execution_count": null,
   "metadata": {
    "execution": {
     "iopub.execute_input": "2021-01-16T14:00:31.381217Z",
     "iopub.status.busy": "2021-01-16T14:00:31.380599Z",
     "iopub.status.idle": "2021-01-16T14:01:55.348490Z",
     "shell.execute_reply": "2021-01-16T14:01:55.349283Z"
    }
   },
   "outputs": [],
   "source": [
    "games_verbose = tqdm.tqdm(list(games.itertuples()), desc=\"Loading game data\")\n",
    "teams, players = [],[]\n",
    "actions = {}\n",
    "atomic_actions = {}\n",
    "for game in games_verbose:\n",
    "    # load data\n",
    "    teams.append(SBL.teams(game.game_id))\n",
    "    players.append(SBL.players(game.game_id))\n",
    "    events = SBL.events(game.game_id)\n",
    "    \n",
    "    # convert data\n",
    "    actions = statsbomb.convert_to_actions(events, game.home_team_id)\n",
    "    atomic_actions[game.game_id] = atomicspadl.convert_to_atomic(actions)\n",
    "\n",
    "teams = pd.concat(teams).drop_duplicates(\"team_id\").reset_index(drop=True)\n",
    "players = pd.concat(players).reset_index(drop=True)"
   ]
  },
  {
   "cell_type": "code",
   "execution_count": null,
   "metadata": {},
   "outputs": [],
   "source": [
    "# set(games_verbose.game.game_id)"
   ]
  },
  {
   "cell_type": "markdown",
   "metadata": {},
   "source": [
    "## Store converted spadl data in a h5-file"
   ]
  },
  {
   "cell_type": "code",
   "execution_count": null,
   "metadata": {
    "execution": {
     "iopub.execute_input": "2021-01-16T14:01:55.359774Z",
     "iopub.status.busy": "2021-01-16T14:01:55.358589Z",
     "iopub.status.idle": "2021-01-16T14:01:59.902819Z",
     "shell.execute_reply": "2021-01-16T14:01:59.901413Z"
    },
    "scrolled": true
   },
   "outputs": [],
   "source": [
    "\n",
    "datafolder = \"../../static/data/Statsbomb/data\"\n",
    "\n",
    "\n",
    "# Create data folder if it doesn't exist\n",
    "if not os.path.exists(datafolder):\n",
    "    os.mkdir(datafolder)\n",
    "    print(f\"Directory {datafolder} created.\")\n",
    "\n",
    "spadl_h5 = os.path.join(datafolder, \"atomic-spadl-statsbomb.h5\")\n",
    "\n",
    "# Store all spadl data in h5-file\n",
    "with pd.HDFStore(spadl_h5) as spadlstore:\n",
    "    spadlstore[\"competitions\"] = selected_competitions\n",
    "    spadlstore[\"games\"] = games\n",
    "    spadlstore[\"teams\"] = teams\n",
    "    spadlstore[\"players\"] = players[['player_id', 'player_name', 'nickname']].drop_duplicates(subset='player_id')\n",
    "    spadlstore[\"player_games\"] = players[['player_id', 'game_id', 'team_id', 'is_starter', 'starting_position_id', 'starting_position_name', 'minutes_played']]\n",
    "    for game_id in atomic_actions.keys():\n",
    "        spadlstore[f\"atomic_actions/game_{game_id}\"] = atomic_actions[game_id]\n",
    "\n",
    "    spadlstore[\"results\"] = spadl.results_df()\n",
    "    spadlstore[\"bodyparts\"] = spadl.bodyparts_df()\n",
    "    spadlstore[\"atomic_actiontypes\"] = atomicspadl.actiontypes_df()"
   ]
  },
  {
   "cell_type": "markdown",
   "metadata": {},
   "source": [
    "## Plot the spadl data\n",
    "Extra library required: ```pip install matplotsoccer```"
   ]
  },
  {
   "cell_type": "code",
   "execution_count": null,
   "metadata": {
    "execution": {
     "iopub.execute_input": "2021-01-16T14:01:59.914531Z",
     "iopub.status.busy": "2021-01-16T14:01:59.913598Z",
     "iopub.status.idle": "2021-01-16T14:02:00.299125Z",
     "shell.execute_reply": "2021-01-16T14:02:00.298260Z"
    }
   },
   "outputs": [],
   "source": [
    "# Select England vs Belgium game at World Cup\n",
    "with pd.HDFStore(spadl_h5) as spadlstore:\n",
    "    games = (\n",
    "        spadlstore[\"games\"]\n",
    "        .merge(spadlstore[\"competitions\"], how='left')\n",
    "        .merge(spadlstore[\"teams\"].add_prefix('home_'), how='left')\n",
    "        .merge(spadlstore[\"teams\"].add_prefix('away_'), how='left'))\n",
    "#     print(games)\n",
    "    game = games[(games.game_id == 7525) ]\n",
    "#     game = games[(games.competition_name == \"FIFA World Cup\") \n",
    "#                   & (games.away_team_name == \"England\")\n",
    "#                   & (games.home_team_name == \"Belgium\")]\n",
    "    game_id = game.game_id.values[0]\n",
    "    atomic_actions = spadlstore[f\"atomic_actions/game_{game_id}\"]\n",
    "    atomic_actions = (\n",
    "        atomic_actions\n",
    "        .merge(spadlstore[\"atomic_actiontypes\"], how=\"left\")\n",
    "        .merge(spadlstore[\"bodyparts\"], how=\"left\")\n",
    "        .merge(spadlstore[\"players\"], how=\"left\")\n",
    "        .merge(spadlstore[\"teams\"], how=\"left\")\n",
    "    )\n",
    "\n",
    "# use nickname if available else use full name\n",
    "atomic_actions[\"player_name\"] = atomic_actions[[\"nickname\", \"player_name\"]].apply(lambda x: x[0] if x[0] else x[1],axis=1)\n",
    "del atomic_actions['nickname']\n",
    "actions[:5]"
   ]
  },
  {
   "cell_type": "code",
   "execution_count": null,
   "metadata": {
    "execution": {
     "iopub.execute_input": "2021-01-16T14:02:00.307303Z",
     "iopub.status.busy": "2021-01-16T14:02:00.306656Z",
     "iopub.status.idle": "2021-01-16T14:02:01.613998Z",
     "shell.execute_reply": "2021-01-16T14:02:01.614506Z"
    }
   },
   "outputs": [],
   "source": [
    "import matplotsoccer\n",
    "import matplotlib.pyplot as plt\n",
    "\n",
    "images = []\n",
    "for shot in list(atomic_actions[(atomic_actions.type_name == \"goal\")].index):\n",
    "    a = atomic_actions[shot-8:shot+1].copy()\n",
    "\n",
    "    a[\"start_x\"] = a.x\n",
    "    a[\"start_y\"] = a.y\n",
    "    a[\"end_x\"] = a.x + a.dx\n",
    "    a[\"end_y\"] = a.y + a.dy\n",
    "\n",
    "    g = game.iloc[0]\n",
    "    minute = int((a.period_id.values[0] - 1) * 45 + a.time_seconds.values[0] // 60)\n",
    "    game_info = f\"{g.game_date} {g.home_team_name} {g.home_score}-{g.away_score} {g.away_team_name} {minute + 1}'\"\n",
    "    print(game_info)\n",
    "\n",
    "    def nice_time(row):\n",
    "        minute = int((row.period_id-1) * 45 + row.time_seconds // 60)\n",
    "        second = int(row.time_seconds % 60)\n",
    "        return f\"{minute}m{second}s\"\n",
    "\n",
    "    a[\"nice_time\"] = a.apply(nice_time,axis=1)\n",
    "    labels = a[[\"nice_time\", \"type_name\", \"player_name\", \"team_name\"]]\n",
    "    \n",
    "    fig = plt.gcf()\n",
    "    \n",
    "    images.append(matplotsoccer.actions(\n",
    "                                    location=a[[\"start_x\", \"start_y\", \"end_x\", \"end_y\"]],\n",
    "                                    action_type=a.type_name,\n",
    "                                    team= a.team_name,\n",
    "                                    label=labels,\n",
    "                                    labeltitle=[\"time\", \"actiontype\", \"player_name\", \"team\"],\n",
    "                                    zoom=False,\n",
    "                                    figsize=6,\n",
    "                                    show=False,\n",
    "                                    show_legend=False\n",
    "                                ))\n",
    "    fig.savefig('tessstttyyy.png')\n",
    "    \n",
    "images"
   ]
  },
  {
   "cell_type": "code",
   "execution_count": null,
   "metadata": {},
   "outputs": [],
   "source": []
  }
 ],
 "metadata": {
  "kernelspec": {
   "display_name": "Python 3",
   "language": "python",
   "name": "python3"
  },
  "language_info": {
   "codemirror_mode": {
    "name": "ipython",
    "version": 3
   },
   "file_extension": ".py",
   "mimetype": "text/x-python",
   "name": "python",
   "nbconvert_exporter": "python",
   "pygments_lexer": "ipython3",
   "version": "3.8.3"
  },
  "varInspector": {
   "cols": {
    "lenName": 16,
    "lenType": 16,
    "lenVar": 40
   },
   "kernels_config": {
    "python": {
     "delete_cmd_postfix": "",
     "delete_cmd_prefix": "del ",
     "library": "var_list.py",
     "varRefreshCmd": "print(var_dic_list())"
    },
    "r": {
     "delete_cmd_postfix": ") ",
     "delete_cmd_prefix": "rm(",
     "library": "var_list.r",
     "varRefreshCmd": "cat(var_dic_list()) "
    }
   },
   "types_to_exclude": [
    "module",
    "function",
    "builtin_function_or_method",
    "instance",
    "_Feature"
   ],
   "window_display": false
  }
 },
 "nbformat": 4,
 "nbformat_minor": 2
}
