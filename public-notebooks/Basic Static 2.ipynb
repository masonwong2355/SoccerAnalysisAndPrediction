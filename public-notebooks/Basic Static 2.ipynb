{
 "cells": [
  {
   "cell_type": "code",
   "execution_count": 1,
   "metadata": {},
   "outputs": [],
   "source": [
    "import pandas as pd\n",
    "import numpy as np\n",
    "import json\n",
    "import matplotlib.pyplot as plt\n",
    "import matplotlib"
   ]
  },
  {
   "cell_type": "code",
   "execution_count": 2,
   "metadata": {},
   "outputs": [
    {
     "data": {
      "text/plain": [
       "['events_England.json',\n",
       " 'events_Italy.json',\n",
       " 'events_European_Championship.json',\n",
       " 'events_Spain.json',\n",
       " 'events_France.json',\n",
       " 'events_World_Cup.json',\n",
       " 'events_Germany.json']"
      ]
     },
     "execution_count": 2,
     "metadata": {},
     "output_type": "execute_result"
    }
   ],
   "source": [
    "# events_England.json\n",
    "# events_Italy.json\n",
    "# events_European_Championship.json\n",
    "# events_Spain.json\n",
    "# events_France.json\n",
    "# events_World_Cup.json\n",
    "# events_Germany.json\n",
    "\n",
    "files = open('../static/data/events/list_of_files.txt', \"r\")\n",
    "files = files.readlines()\n",
    "files = [f.replace(\"\\n\",\"\") for f in files]\n",
    "files"
   ]
  },
  {
   "cell_type": "code",
   "execution_count": 3,
   "metadata": {},
   "outputs": [],
   "source": [
    "with open('../static/data/events/events_England.json') as f:\n",
    "    data = json.load(f)\n",
    "\n",
    "data_df = pd.DataFrame(data)"
   ]
  },
  {
   "cell_type": "code",
   "execution_count": 4,
   "metadata": {},
   "outputs": [
    {
     "name": "stderr",
     "output_type": "stream",
     "text": [
      "C:\\Users\\kenpe\\anaconda3\\lib\\site-packages\\pandas\\core\\indexing.py:1599: SettingWithCopyWarning: \n",
      "A value is trying to be set on a copy of a slice from a DataFrame.\n",
      "Try using .loc[row_indexer,col_indexer] = value instead\n",
      "\n",
      "See the caveats in the documentation: https://pandas.pydata.org/pandas-docs/stable/user_guide/indexing.html#returning-a-view-versus-a-copy\n",
      "  self.obj[key] = infer_fill_value(value)\n",
      "C:\\Users\\kenpe\\anaconda3\\lib\\site-packages\\pandas\\core\\indexing.py:1720: SettingWithCopyWarning: \n",
      "A value is trying to be set on a copy of a slice from a DataFrame.\n",
      "Try using .loc[row_indexer,col_indexer] = value instead\n",
      "\n",
      "See the caveats in the documentation: https://pandas.pydata.org/pandas-docs/stable/user_guide/indexing.html#returning-a-view-versus-a-copy\n",
      "  self._setitem_single_column(loc, value, pi)\n"
     ]
    },
    {
     "data": {
      "text/html": [
       "<div>\n",
       "<style scoped>\n",
       "    .dataframe tbody tr th:only-of-type {\n",
       "        vertical-align: middle;\n",
       "    }\n",
       "\n",
       "    .dataframe tbody tr th {\n",
       "        vertical-align: top;\n",
       "    }\n",
       "\n",
       "    .dataframe thead th {\n",
       "        text-align: right;\n",
       "    }\n",
       "</style>\n",
       "<table border=\"1\" class=\"dataframe\">\n",
       "  <thead>\n",
       "    <tr style=\"text-align: right;\">\n",
       "      <th></th>\n",
       "      <th>eventId</th>\n",
       "      <th>subEventName</th>\n",
       "      <th>tags</th>\n",
       "      <th>playerId</th>\n",
       "      <th>positions</th>\n",
       "      <th>matchId</th>\n",
       "      <th>eventName</th>\n",
       "      <th>teamId</th>\n",
       "      <th>matchPeriod</th>\n",
       "      <th>eventSec</th>\n",
       "      <th>subEventId</th>\n",
       "      <th>id</th>\n",
       "      <th>Goal</th>\n",
       "    </tr>\n",
       "  </thead>\n",
       "  <tbody>\n",
       "    <tr>\n",
       "      <th>46</th>\n",
       "      <td>10</td>\n",
       "      <td>Shot</td>\n",
       "      <td>[{'id': 101}, {'id': 402}, {'id': 201}, {'id':...</td>\n",
       "      <td>25413</td>\n",
       "      <td>[{'y': 41, 'x': 88}, {'y': 0, 'x': 0}]</td>\n",
       "      <td>2499719</td>\n",
       "      <td>Shot</td>\n",
       "      <td>1609</td>\n",
       "      <td>1H</td>\n",
       "      <td>94.595788</td>\n",
       "      <td>100</td>\n",
       "      <td>177959212</td>\n",
       "      <td>1.0</td>\n",
       "    </tr>\n",
       "    <tr>\n",
       "      <th>62</th>\n",
       "      <td>10</td>\n",
       "      <td>Shot</td>\n",
       "      <td>[{'id': 401}, {'id': 201}, {'id': 1211}, {'id'...</td>\n",
       "      <td>26150</td>\n",
       "      <td>[{'y': 52, 'x': 85}, {'y': 100, 'x': 100}]</td>\n",
       "      <td>2499719</td>\n",
       "      <td>Shot</td>\n",
       "      <td>1631</td>\n",
       "      <td>1H</td>\n",
       "      <td>179.854785</td>\n",
       "      <td>100</td>\n",
       "      <td>177959247</td>\n",
       "      <td>NaN</td>\n",
       "    </tr>\n",
       "    <tr>\n",
       "      <th>91</th>\n",
       "      <td>10</td>\n",
       "      <td>Shot</td>\n",
       "      <td>[{'id': 101}, {'id': 403}, {'id': 201}, {'id':...</td>\n",
       "      <td>14763</td>\n",
       "      <td>[{'y': 52, 'x': 96}, {'y': 100, 'x': 100}]</td>\n",
       "      <td>2499719</td>\n",
       "      <td>Shot</td>\n",
       "      <td>1631</td>\n",
       "      <td>1H</td>\n",
       "      <td>254.745027</td>\n",
       "      <td>100</td>\n",
       "      <td>177959280</td>\n",
       "      <td>1.0</td>\n",
       "    </tr>\n",
       "    <tr>\n",
       "      <th>128</th>\n",
       "      <td>10</td>\n",
       "      <td>Shot</td>\n",
       "      <td>[{'id': 401}, {'id': 201}, {'id': 1215}, {'id'...</td>\n",
       "      <td>7868</td>\n",
       "      <td>[{'y': 33, 'x': 81}, {'y': 0, 'x': 0}]</td>\n",
       "      <td>2499719</td>\n",
       "      <td>Shot</td>\n",
       "      <td>1609</td>\n",
       "      <td>1H</td>\n",
       "      <td>425.824035</td>\n",
       "      <td>100</td>\n",
       "      <td>177959289</td>\n",
       "      <td>NaN</td>\n",
       "    </tr>\n",
       "    <tr>\n",
       "      <th>249</th>\n",
       "      <td>10</td>\n",
       "      <td>Shot</td>\n",
       "      <td>[{'id': 402}, {'id': 201}, {'id': 1205}, {'id'...</td>\n",
       "      <td>7868</td>\n",
       "      <td>[{'y': 30, 'x': 75}, {'y': 0, 'x': 0}]</td>\n",
       "      <td>2499719</td>\n",
       "      <td>Shot</td>\n",
       "      <td>1609</td>\n",
       "      <td>1H</td>\n",
       "      <td>815.462015</td>\n",
       "      <td>100</td>\n",
       "      <td>177959429</td>\n",
       "      <td>NaN</td>\n",
       "    </tr>\n",
       "  </tbody>\n",
       "</table>\n",
       "</div>"
      ],
      "text/plain": [
       "     eventId subEventName                                               tags  \\\n",
       "46        10         Shot  [{'id': 101}, {'id': 402}, {'id': 201}, {'id':...   \n",
       "62        10         Shot  [{'id': 401}, {'id': 201}, {'id': 1211}, {'id'...   \n",
       "91        10         Shot  [{'id': 101}, {'id': 403}, {'id': 201}, {'id':...   \n",
       "128       10         Shot  [{'id': 401}, {'id': 201}, {'id': 1215}, {'id'...   \n",
       "249       10         Shot  [{'id': 402}, {'id': 201}, {'id': 1205}, {'id'...   \n",
       "\n",
       "     playerId                                   positions  matchId eventName  \\\n",
       "46      25413      [{'y': 41, 'x': 88}, {'y': 0, 'x': 0}]  2499719      Shot   \n",
       "62      26150  [{'y': 52, 'x': 85}, {'y': 100, 'x': 100}]  2499719      Shot   \n",
       "91      14763  [{'y': 52, 'x': 96}, {'y': 100, 'x': 100}]  2499719      Shot   \n",
       "128      7868      [{'y': 33, 'x': 81}, {'y': 0, 'x': 0}]  2499719      Shot   \n",
       "249      7868      [{'y': 30, 'x': 75}, {'y': 0, 'x': 0}]  2499719      Shot   \n",
       "\n",
       "     teamId matchPeriod    eventSec subEventId         id  Goal  \n",
       "46     1609          1H   94.595788        100  177959212   1.0  \n",
       "62     1631          1H  179.854785        100  177959247   NaN  \n",
       "91     1631          1H  254.745027        100  177959280   1.0  \n",
       "128    1609          1H  425.824035        100  177959289   NaN  \n",
       "249    1609          1H  815.462015        100  177959429   NaN  "
      ]
     },
     "execution_count": 4,
     "metadata": {},
     "output_type": "execute_result"
    }
   ],
   "source": [
    "#Add Goal Colnum and assign every shot\n",
    "shots=data_df[data_df['subEventName']=='Shot']\n",
    "shots.assign(Goal = 0)\n",
    "for i,shot in shots.iterrows():\n",
    "    for shottags in shot['tags']:\n",
    "            if shottags['id']==101:\n",
    "                shots.loc[i,'Goal']=1\n",
    "\n",
    "half='2H'\n",
    "isgoal=0\n",
    "shots.head()"
   ]
  },
  {
   "cell_type": "code",
   "execution_count": 5,
   "metadata": {},
   "outputs": [],
   "source": [
    "# find goal short\n",
    "if isgoal:\n",
    "    the_shots=shots[np.logical_and((shots['matchPeriod']==half), (shots['Goal']==1))]['eventSec']\n",
    "else:\n",
    "    the_shots=shots[(shots['matchPeriod']==half)]['eventSec']"
   ]
  },
  {
   "cell_type": "code",
   "execution_count": 6,
   "metadata": {},
   "outputs": [
    {
     "data": {
      "text/plain": [
       "11.83421052631579"
      ]
     },
     "execution_count": 6,
     "metadata": {},
     "output_type": "execute_result"
    }
   ],
   "source": [
    "#Basic shot statistics\n",
    "total_shots=len(the_shots)\n",
    "num_of_matches=len(np.unique(shots['matchId']))\n",
    "shots_per_match=total_shots/num_of_matches\n",
    "shots_per_min=total_shots/48\n",
    "\n",
    "shots_per_match"
   ]
  },
  {
   "cell_type": "code",
   "execution_count": 7,
   "metadata": {},
   "outputs": [
    {
     "data": {
      "image/png": "[encoded data removed]",
      "text/plain": [
       "<Figure size 561.039x374.026 with 1 Axes>"
      ]
     },
     "metadata": {
      "needs_background": "light"
     },
     "output_type": "display_data"
    }
   ],
   "source": [
    "from pylab import rcParams\n",
    "# rcParams['figure.figsize'] = 12/2.54, 8/2.54\n",
    "rcParams['figure.figsize'] = 12/1.54, 8/1.54\n",
    "\n",
    "matplotlib.font_manager.FontProperties(family='Helvetica',size=11)\n",
    "\n",
    "#Set up figure\n",
    "fig=plt.figure()\n",
    "ax=fig.add_subplot(1,1,1)\n",
    "\n",
    "#Plot histogram of shots\n",
    "plt.hist(the_shots/60, bins = range(0,49))\n",
    "plt.plot([0, 48],[shots_per_min, shots_per_min], color='black')\n",
    " \n",
    "ax.spines['left'].set_visible(True)\n",
    "ax.spines['bottom'].set_position('zero')    \n",
    "ax.spines['top'].set_visible(False)\n",
    "ax.spines['right'].set_visible(False)\n",
    "ax.set_xticks(np.arange(0,48,5))\n",
    "\n",
    "ax.set_xlabel('Time elapsed in ' + half[0] + ' half')\n",
    "if isgoal==0:\n",
    "    ax.set_ylabel('Number of shots over the season')\n",
    "    ax.set_yticks(np.arange(0,120,20))\n",
    "    ax.set_ylim(0,130)\n",
    "else:\n",
    "    ax.set_ylabel('Number of goals over the season')\n",
    "    ax.set_yticks(np.arange(0,20,2))\n",
    "    ax.set_ylim(0,20) \n",
    "    \n",
    "plt.show()"
   ]
  },
  {
   "cell_type": "code",
   "execution_count": 8,
   "metadata": {},
   "outputs": [],
   "source": [
    "#Save to pdf\n",
    "if isgoal:\n",
    "    fig.savefig('../static/img/goal' + half +'.pdf' , dpi=None, bbox_inches=\"tight\")\n",
    "else:\n",
    "    fig.savefig('../static/img/notgoal' + half +'.pdf' , dpi=None, bbox_inches=\"tight\")"
   ]
  },
  {
   "cell_type": "code",
   "execution_count": null,
   "metadata": {},
   "outputs": [],
   "source": []
  }
 ],
 "metadata": {
  "kernelspec": {
   "display_name": "Python 3",
   "language": "python",
   "name": "python3"
  },
  "language_info": {
   "codemirror_mode": {
    "name": "ipython",
    "version": 3
   },
   "file_extension": ".py",
   "mimetype": "text/x-python",
   "name": "python",
   "nbconvert_exporter": "python",
   "pygments_lexer": "ipython3",
   "version": "3.8.3"
  }
 },
 "nbformat": 4,
 "nbformat_minor": 4
}
